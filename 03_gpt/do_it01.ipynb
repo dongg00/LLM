{
 "cells": [
  {
   "cell_type": "code",
   "execution_count": 7,
   "id": "2a0e1d5a",
   "metadata": {},
   "outputs": [],
   "source": [
    "import base64\n",
    "from openai import OpenAI\n",
    "from dotenv import load_dotenv\n",
    "import os"
   ]
  },
  {
   "cell_type": "code",
   "execution_count": 9,
   "id": "75c734fe",
   "metadata": {},
   "outputs": [],
   "source": [
    "load_dotenv()\n",
    "api_key=os.getenv(\"OPENAI_API_KEY\")\n",
    "client=OpenAI(api_key=api_key)"
   ]
  },
  {
   "cell_type": "code",
   "execution_count": 3,
   "id": "37c9323d",
   "metadata": {},
   "outputs": [],
   "source": [
    "def encode_image(image_path):\n",
    "    with open(image_path, \"rb\") as image_file:\n",
    "        return base64.b64encode(image_file.read()).decode(\"utf-8\")\n"
   ]
  },
  {
   "cell_type": "code",
   "execution_count": 4,
   "id": "36dc92a7",
   "metadata": {},
   "outputs": [],
   "source": [
    "oecd_rnd_2021_base64=encode_image(\"oecd_rnd_2021_large.png\")"
   ]
  },
  {
   "cell_type": "code",
   "execution_count": 6,
   "id": "08153a90",
   "metadata": {},
   "outputs": [],
   "source": [
    "oecd_rnd_2022_base64=encode_image(\"oecd_rnd_2022.png\")"
   ]
  },
  {
   "cell_type": "code",
   "execution_count": null,
   "id": "8b84308d",
   "metadata": {},
   "outputs": [
    {
     "name": "stdout",
     "output_type": "stream",
     "text": [
      "이 데이터는 2021년과 2022년 주요 국가들의 연구개발비 지출과 GDP 대비 연구개발비 비중을 나타냅니다. 한국을 중심으로 변화를 살펴보면 다음과 같습니다:\n",
      "\n",
      "1. **연구개발비**:\n",
      "   - 한국의 연구개발비는 2021년에 약 91,013백만 달러에서 2022년에 약 87,225백만 달러로 감소했습니다.\n",
      "\n",
      "2. **GDP 대비 연구개발비 비중**:\n",
      "   - 2021년과 2022년 모두 한국의 GDP 대비 연구개발비 비중은 4.93%로 동일하게 유지되었습니다.\n",
      "\n",
      "3. **국제적 비교**:\n",
      "   - 한국은 여전히 연구개발비 비중이 높은 국가 중 하나로 2022년에도 높은 수준을 유지하고 있습니다. 상대적으로 이스라엘(5.56%)과 대만(3.77%)도 높은 비중을 기록하고 있습니다.\n",
      "\n",
      "한국의 연구개발비 자체는 감소했지만, 경제 규모에 비해 연구개발에 대한 투자의 일관성을 보여주고 있습니다. 이러한 일관적인 비중은 한국의 기술 및 혁신 역량을 강조하는 중요한 요소로 볼 수 있습니다.\n"
     ]
    }
   ],
   "source": [
    "messages=[\n",
    "    {\n",
    "        \"role\":\"user\",\n",
    "        \"content\":[\n",
    "            {\"type\":\"text\",\n",
    "             \"text\":\"첫 번째는 2021년 데이터고, 두 번째는 2022년 데이터입니다.이 데이터에 대해 설명해주세요. 어떠한 변화가 있었나요? 한국 중심으로 설명해주세요.\"\n",
    "            },\n",
    "            {\n",
    "                \"type\":\"image_url\",\n",
    "                \"image_url\":{\n",
    "                    \"url\":f\"data:image/jpeg;base64,{oecd_rnd_2021_base64}\",\n",
    "              },\n",
    "            },\n",
    "            {\n",
    "                \"type\":\"image_url\",\n",
    "                \"image_url\":{\n",
    "                    \"url\":f\"data:image/jpeg;base64,{oecd_rnd_2022_base64}\",\n",
    "              },\n",
    "            }\n",
    "        ],\n",
    "    }\n",
    "]\n",
    "response=client.chat.completions.create(\n",
    "    model=\"gpt-4o\",\n",
    "    messages=messages\n",
    ")\n",
    "print(response.choices[0].message.content)"
   ]
  },
  {
   "cell_type": "markdown",
   "id": "c80878ee",
   "metadata": {},
   "source": [
    "**2021년 연구개발, GDP 잘 못예측함. -> 2021 해상도 문제?**"
   ]
  },
  {
   "cell_type": "code",
   "execution_count": 13,
   "id": "370bc04b",
   "metadata": {},
   "outputs": [],
   "source": [
    "oecd_rnd_2021_base64=encode_image(\"oecd_rnd_2021_medium.png\")\n",
    "oecd_rnd_2022_base64=encode_image(\"oecd_rnd_2022.png\")"
   ]
  },
  {
   "cell_type": "code",
   "execution_count": 14,
   "id": "dda80015",
   "metadata": {},
   "outputs": [
    {
     "name": "stdout",
     "output_type": "stream",
     "text": [
      "첫 번째 이미지는 2021년 데이터, 두 번째 이미지는 2022년 데이터입니다. 여기서 한국의 연구개발비와 GDP 대비 연구개발비 비중의 변화를 중심으로 설명할 수 있습니다.\n",
      "\n",
      "### 한국의 변화\n",
      "\n",
      "1. **연구개발비**:\n",
      "   - 2021년: 121,739백만 달러\n",
      "   - 2022년: 133,867백만 달러\n",
      "   - **변화**: 연구개발비가 증가했습니다.\n",
      "\n",
      "2. **GDP 대비 연구개발비 비중**:\n",
      "   - 2021년: 4.93%\n",
      "   - 2022년: 5.21%\n",
      "   - **변화**: GDP 대비 연구개발비 비중도 증가했습니다.\n",
      "\n",
      "한국은 연구개발비 측면에서 꾸준히 성장하고 있으며, GDP 대비 비중 또한 상승하고 있는 것을 볼 수 있습니다. 이는 연구개발에 대한 투자가 증가하고 있음을 의미합니다. \n",
      "\n",
      "### 전반적인 변동 사항\n",
      "\n",
      "- **다른 국가들과 비교**:\n",
      "  - 미국과 중국은 연구개발비가 가장 높은 국가로 유지되고 있으며, 한국은 계속해서 상위권을 차지하고 있습니다.\n",
      "  - GDP 대비 연구개발비 비중에서는 이스라엘이 가장 높으며, 한국은 두 번째로 높은 비중을 기록하고 있습니다.\n",
      "\n",
      "이러한 추세는 연구개발에 대한 지속적인 투자가 국가 경제 및 기술 발전에 중요하다는 것을 보여줍니다.\n"
     ]
    }
   ],
   "source": [
    "messages=[\n",
    "    {\n",
    "        \"role\":\"user\",\n",
    "        \"content\":[\n",
    "            {\"type\":\"text\",\n",
    "             \"text\":\"첫 번째는 2021년 데이터고, 두 번째는 2022년 데이터입니다.이 데이터에 대해 설명해주세요. 어떠한 변화가 있었나요? 한국 중심으로 설명해주세요.\"\n",
    "            },\n",
    "            {\n",
    "                \"type\":\"image_url\",\n",
    "                \"image_url\":{\n",
    "                    \"url\":f\"data:image/jpeg;base64,{oecd_rnd_2021_base64}\",\n",
    "              },\n",
    "            },\n",
    "            {\n",
    "                \"type\":\"image_url\",\n",
    "                \"image_url\":{\n",
    "                    \"url\":f\"data:image/jpeg;base64,{oecd_rnd_2022_base64}\",\n",
    "              },\n",
    "            }\n",
    "        ],\n",
    "    }\n",
    "]\n",
    "response=client.chat.completions.create(\n",
    "    model=\"gpt-4o\",\n",
    "    messages=messages\n",
    ")\n",
    "print(response.choices[0].message.content)"
   ]
  },
  {
   "cell_type": "code",
   "execution_count": null,
   "id": "71e9caa3",
   "metadata": {},
   "outputs": [],
   "source": []
  }
 ],
 "metadata": {
  "kernelspec": {
   "display_name": "Python 3",
   "language": "python",
   "name": "python3"
  },
  "language_info": {
   "codemirror_mode": {
    "name": "ipython",
    "version": 3
   },
   "file_extension": ".py",
   "mimetype": "text/x-python",
   "name": "python",
   "nbconvert_exporter": "python",
   "pygments_lexer": "ipython3",
   "version": "3.13.3"
  }
 },
 "nbformat": 4,
 "nbformat_minor": 5
}
